{
  "nbformat": 4,
  "nbformat_minor": 0,
  "metadata": {
    "colab": {
      "provenance": []
    },
    "kernelspec": {
      "name": "python3",
      "display_name": "Python 3"
    },
    "language_info": {
      "name": "python"
    }
  },
  "cells": [
    {
      "cell_type": "code",
      "execution_count": null,
      "metadata": {
        "colab": {
          "base_uri": "https://localhost:8080/"
        },
        "id": "ACPLo7zUyDOu",
        "outputId": "efc3d246-6094-4a3a-8253-7b796d9feed6"
      },
      "outputs": [
        {
          "output_type": "stream",
          "name": "stdout",
          "text": [
            "[[ 3  2]\n",
            " [ 7 -2]]\n",
            "Valores propios:  [ 5. -4.]\n",
            "Vectores propios:  [[ 0.70710678 -0.27472113]\n",
            " [ 0.70710678  0.96152395]]\n"
          ]
        }
      ],
      "source": [
        "import numpy as np\n",
        "\n",
        "A = np.array ([[3,  2], [7,  -2]])\n",
        "\n",
        "x, v = np.linalg.eig (A)\n",
        "\n",
        "print(A)\n",
        "print(\"Valores propios: \", x)\n",
        "print(\"Vectores propios: \", v)"
      ]
    },
    {
      "cell_type": "code",
      "source": [
        "np.dot(v[0], v[1])"
      ],
      "metadata": {
        "colab": {
          "base_uri": "https://localhost:8080/"
        },
        "id": "IFCB-MoE4JjQ",
        "outputId": "af677a14-ae32-4a4e-ac8b-4c85ced199fa"
      },
      "execution_count": null,
      "outputs": [
        {
          "output_type": "execute_result",
          "data": {
            "text/plain": [
              "0.23584905660377342"
            ]
          },
          "metadata": {},
          "execution_count": 15
        }
      ]
    },
    {
      "cell_type": "markdown",
      "source": [
        "En este caso, tenemos dos ***valores propios*** y dos ***vectores propios***.\n",
        "\n",
        "Siempre la relación de proporcionalidad entre ***valores propios*** y ***vectores propios*** será de [1 : 1].\n",
        "\n",
        "Por esta razón, si hay un ***valor propio***, necesariamente tiene que haber un solo ***vector propio*** y viceversa; lo mismo que si hay dos, tres o n.\n",
        "\n",
        "La fórmula de esta regla es:\n",
        "\n",
        "$Ax = \\lambda x$"
      ],
      "metadata": {
        "id": "E3pRPVpOyZDz"
      }
    },
    {
      "cell_type": "markdown",
      "source": [
        "Entonces, el ***valor propio*** del primer vector es 5 y el ***valor propio*** del segundo vector es -4.\n"
      ],
      "metadata": {
        "id": "9MoR-I7MzY6w"
      }
    },
    {
      "cell_type": "code",
      "source": [
        "np.diag((1, 2, 3))"
      ],
      "metadata": {
        "colab": {
          "base_uri": "https://localhost:8080/"
        },
        "id": "Sr1ZpkO620Sj",
        "outputId": "41fdd99d-407f-4edc-8e7d-0d0d7329d64a"
      },
      "execution_count": null,
      "outputs": [
        {
          "output_type": "execute_result",
          "data": {
            "text/plain": [
              "array([[1, 0, 0],\n",
              "       [0, 2, 0],\n",
              "       [0, 0, 3]])"
            ]
          },
          "metadata": {},
          "execution_count": 17
        }
      ]
    },
    {
      "cell_type": "code",
      "source": [
        "w, v = np.linalg.eig(np.diag((1, 2, 3)))\n",
        "print(w)\n",
        "print(v)"
      ],
      "metadata": {
        "colab": {
          "base_uri": "https://localhost:8080/"
        },
        "id": "x55xlQ6u05YE",
        "outputId": "35020e07-da92-4086-d0aa-b24ef7c32e37"
      },
      "execution_count": null,
      "outputs": [
        {
          "output_type": "stream",
          "name": "stdout",
          "text": [
            "[1. 2. 3.]\n",
            "[[1. 0. 0.]\n",
            " [0. 1. 0.]\n",
            " [0. 0. 1.]]\n"
          ]
        }
      ]
    },
    {
      "cell_type": "code",
      "source": [
        "a = [[3,  2], [7,  -2]]\n",
        "v1, v2 = np.linalg.eigvals(a)\n",
        "print(v1)\n",
        "print(v2)"
      ],
      "metadata": {
        "colab": {
          "base_uri": "https://localhost:8080/"
        },
        "id": "BkegznlW1biA",
        "outputId": "733cd019-34d8-4248-ec74-8ab471dd27c5"
      },
      "execution_count": null,
      "outputs": [
        {
          "output_type": "stream",
          "name": "stdout",
          "text": [
            "5.0\n",
            "-4.0\n"
          ]
        }
      ]
    },
    {
      "cell_type": "code",
      "source": [
        "M = [[1,0,0], [0,0,-1],[0,1,0]]\n",
        "w, v = np.linalg.eig(M)\n",
        "print(w)\n",
        "print(v)"
      ],
      "metadata": {
        "colab": {
          "base_uri": "https://localhost:8080/"
        },
        "id": "et8i8tYa6zuP",
        "outputId": "8c323675-850e-487b-d676-cb72d7fe9cfa"
      },
      "execution_count": null,
      "outputs": [
        {
          "output_type": "stream",
          "name": "stdout",
          "text": [
            "[0.+1.j 0.-1.j 1.+0.j]\n",
            "[[0.        +0.j         0.        -0.j         1.        +0.j        ]\n",
            " [0.70710678+0.j         0.70710678-0.j         0.        +0.j        ]\n",
            " [0.        -0.70710678j 0.        +0.70710678j 0.        +0.j        ]]\n"
          ]
        }
      ]
    }
  ]
}