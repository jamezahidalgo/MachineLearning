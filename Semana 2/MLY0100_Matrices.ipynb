{
  "nbformat": 4,
  "nbformat_minor": 0,
  "metadata": {
    "colab": {
      "provenance": []
    },
    "kernelspec": {
      "name": "python3",
      "display_name": "Python 3"
    },
    "language_info": {
      "name": "python"
    }
  },
  "cells": [
    {
      "cell_type": "code",
      "execution_count": null,
      "metadata": {
        "colab": {
          "base_uri": "https://localhost:8080/",
          "height": 36
        },
        "id": "UkbUGVi1j6BQ",
        "outputId": "0f6fe35f-1b4b-4fa7-cd58-da29c3f6f5cd"
      },
      "outputs": [
        {
          "output_type": "execute_result",
          "data": {
            "text/plain": [
              "'\\nCreated on Tue Feb 16 16:10:13 2016\\n\\n@author: José Arcos Aneas\\n\\nEjercicios de matrices con Python\\n'"
            ],
            "application/vnd.google.colaboratory.intrinsic+json": {
              "type": "string"
            }
          },
          "metadata": {},
          "execution_count": 1
        }
      ],
      "source": [
        "# -*- coding: utf-8 -*-\n",
        "\"\"\"\n",
        "Created on Tue Feb 16 16:10:13 2016\n",
        "\n",
        "@author: José Arcos Aneas\n",
        "\n",
        "Ejercicios de matrices con Python\n",
        "\"\"\""
      ]
    },
    {
      "cell_type": "markdown",
      "source": [
        "# EJERCICIO :\n",
        "ejecuta el programa y explica las operaciones realizadas con matrices. Si es necesario, investiga los términos que no conoces."
      ],
      "metadata": {
        "id": "SDBsfnUUl7lM"
      }
    },
    {
      "cell_type": "code",
      "source": [
        "import matplotlib.pyplot as plt\n",
        "import numpy as np\n",
        "import sympy"
      ],
      "metadata": {
        "id": "f0PGrLXsj6-w"
      },
      "execution_count": null,
      "outputs": []
    },
    {
      "cell_type": "code",
      "source": [
        "def dibuja_figura():\n",
        "    \"\"\"Crea la figura de pyplot y los ejes.\"\"\"\n",
        "    fix, ax = plt.subplots()\n",
        "    for spine in [\"left\", \"bottom\"]:\n",
        "        ax.spines[spine].set_position(\"zero\")\n",
        "\n",
        "    return ax"
      ],
      "metadata": {
        "id": "KKuwJgF6j9qI"
      },
      "execution_count": null,
      "outputs": []
    },
    {
      "cell_type": "code",
      "source": [
        "def vector_plano(vector, color):\n",
        "    \"\"\"Genera el grafico de los vectores en el plano\"\"\"\n",
        "    v = vector\n",
        "    ax.annotate(\" \", xy=v, xytext=[0, 0], color=color,\n",
        "                arrowprops=dict(facecolor=color,\n",
        "                                shrink=0,\n",
        "                                alpha=0.7,\n",
        "                                width=0.5))\n",
        "    ax.text(1.1 * v[0], 1.1 * v[1], v)"
      ],
      "metadata": {
        "id": "KXasoh4ikAX0"
      },
      "execution_count": null,
      "outputs": []
    },
    {
      "cell_type": "code",
      "source": [
        "A = sympy.Matrix( [[ 2,-3,-8, 7],\n",
        "                   [-2,-1, 2,-7],\n",
        "                   [ 1, 0,-3, 6]] )\n",
        "print (\"Matriz A\")\n",
        "print (A)\n",
        "# Transpuesta\n",
        "print (\"Transpuesta de A\")\n",
        "print (A.transpose())\n",
        "# transpuesta de transpuesta vuelve a A.\n",
        "print (\"Transpuesta de la transpuesta de A\")\n",
        "A.transpose().transpose()\n",
        "# Creando matriz simetrica\n",
        "As = A*A.transpose()\n",
        "# Comprobando simetria.\n",
        "print (\"Transpuesta de As\")\n",
        "print (As.transpose())\n",
        "# Matriz invertible\n",
        "A = sympy.Matrix( [[1,2],\n",
        "                   [3,9]] )\n",
        "print (\"Matriz A\")\n",
        "print (A)\n",
        "A_inv = A.inv()\n",
        "print (\"Inversa de A\")\n",
        "print (A_inv)\n"
      ],
      "metadata": {
        "id": "EzJVpIMrkC_i",
        "colab": {
          "base_uri": "https://localhost:8080/"
        },
        "outputId": "6ecddf1d-81d4-4b47-c275-3791aa44676d"
      },
      "execution_count": null,
      "outputs": [
        {
          "output_type": "stream",
          "name": "stdout",
          "text": [
            "Matriz A\n",
            "Matrix([[2, -3, -8, 7], [-2, -1, 2, -7], [1, 0, -3, 6]])\n",
            "Transpuesta de A\n",
            "Matrix([[2, -2, 1], [-3, -1, 0], [-8, 2, -3], [7, -7, 6]])\n",
            "Transpuesta de la transpuesta de A\n",
            "Transpuesta de As\n",
            "Matrix([[126, -66, 68], [-66, 58, -50], [68, -50, 46]])\n",
            "Matriz A\n",
            "Matrix([[1, 2], [3, 9]])\n",
            "Inversa de A\n",
            "Matrix([[3, -2/3], [-1, 1/3]])\n"
          ]
        }
      ]
    },
    {
      "cell_type": "code",
      "source": [
        "# A * A_inv = I\n",
        "A*A_inv\n",
        "# forma escalonada igual a indentidad.\n",
        "A.rref()\n",
        "# la inversa de A_inv es A\n",
        "A_inv.inv()\n",
        "# Resolviendo el sistema de ecuaciones.\n",
        "A = np.array([[1.2, -2.2],\n",
        "              [1.1, 1.4]])\n",
        "b = np.array([0., 0.])\n",
        "\n",
        "x = np.linalg.solve(A, b)\n",
        "print (x)\n"
      ],
      "metadata": {
        "id": "MNmxZZRjkIP1",
        "colab": {
          "base_uri": "https://localhost:8080/"
        },
        "outputId": "09cd150d-6de6-4eaa-c01e-fcc5119c0a80"
      },
      "execution_count": null,
      "outputs": [
        {
          "output_type": "stream",
          "name": "stdout",
          "text": [
            "[0. 0.]\n"
          ]
        }
      ]
    },
    {
      "cell_type": "code",
      "source": [
        "# Solución gráfica.\n",
        "x_vals = np.linspace(-5, 5, 50) # crea 50 valores entre 0 y 5\n",
        "ax = dibuja_figura()\n",
        "ax.set_xlim(-5, 5)\n",
        "ax.set_ylim(-5, 5)\n",
        "ax.grid()\n",
        "ax.plot(x_vals, (1.2 * x_vals) / -2.2) # grafica 1.2x_1 - 2.2x_2 = 0\n",
        "a = ax.plot(x_vals, (1.1 * x_vals) / 1.4) # grafica 1.1x_1 + 1.4x_2 = 0"
      ],
      "metadata": {
        "id": "wsPoTf7zkL6N",
        "colab": {
          "base_uri": "https://localhost:8080/",
          "height": 406
        },
        "outputId": "455ad31b-56e6-4877-d098-05cd052c743f"
      },
      "execution_count": null,
      "outputs": [
        {
          "output_type": "display_data",
          "data": {
            "text/plain": [
              "<Figure size 640x480 with 1 Axes>"
            ],
            "image/png": "[encoded data removed]"
          },
          "metadata": {}
        }
      ]
    },
    {
      "cell_type": "code",
      "source": [
        "# Sympy para resolver el sistema de ecuaciones lineales\n",
        "a1, a2, a3 = sympy.symbols('a1, a2, a3')\n",
        "A = sympy.Matrix(( (3, 3, 3, 0), (2, 2, 2, 0), (2, 1, 0, 0), (3, 2, 1, 0) ))\n",
        "\n",
        "sympy.solve_linear_system(A, a1, a2, a3)\n",
        "A = sympy.Matrix(( (1, 1, 1, 0), (-2, 1, 1, 0), (-1, 2, 0, 0) ))\n",
        "sympy.solve_linear_system(A, a1, a2, a3)\n",
        "\n",
        "# Calculando el rango con SymPy\n",
        "A = sympy.Matrix([[1, 1, 1, 4],\n",
        "                  [1, 2, 1, 5],\n",
        "                  [1, 1, 1, 6]])\n",
        "# Rango con SymPy\n",
        "print (A.rank())"
      ],
      "metadata": {
        "id": "0kmbNy2qkOjb",
        "colab": {
          "base_uri": "https://localhost:8080/"
        },
        "outputId": "499201a9-b651-44d4-c5e1-06769fbed101"
      },
      "execution_count": null,
      "outputs": [
        {
          "output_type": "stream",
          "name": "stdout",
          "text": [
            "3\n"
          ]
        }
      ]
    },
    {
      "cell_type": "code",
      "source": [
        "# Calculando el rango con numpy\n",
        "A = np.array([[1, 1, 2, 4],\n",
        "              [1, 1, 2, 5],\n",
        "              [1, 1, 2, 6]])\n",
        "\n",
        "print (np.linalg.matrix_rank(A))"
      ],
      "metadata": {
        "id": "qydq07_XkR93",
        "colab": {
          "base_uri": "https://localhost:8080/"
        },
        "outputId": "6ed3fdbe-26af-4569-eb49-882fcc26a090"
      },
      "execution_count": null,
      "outputs": [
        {
          "output_type": "stream",
          "name": "stdout",
          "text": [
            "2\n"
          ]
        }
      ]
    },
    {
      "cell_type": "code",
      "source": [
        "# Determinante con sympy\n",
        "A = sympy.Matrix( [[1, 2, 6],\n",
        "                   [2,-2, 0],\n",
        "                   [2, 3, 5]] )\n",
        "print (A.det())\n"
      ],
      "metadata": {
        "id": "q8hCbKlOkVmA",
        "colab": {
          "base_uri": "https://localhost:8080/"
        },
        "outputId": "184d6f2a-79da-4c0c-e954-76d6a8117867"
      },
      "execution_count": null,
      "outputs": [
        {
          "output_type": "stream",
          "name": "stdout",
          "text": [
            "30\n"
          ]
        }
      ]
    },
    {
      "cell_type": "code",
      "source": [
        "# Determinante con numpy\n",
        "A = np.array([[2, 2, 3],\n",
        "              [2, 1, 4],\n",
        "              [2, 1, 5]] )\n",
        "print (np.linalg.det(A))"
      ],
      "metadata": {
        "id": "VnaXfNPjkX16",
        "colab": {
          "base_uri": "https://localhost:8080/"
        },
        "outputId": "0b22b9d7-cb95-4bb0-d532-afd22534504d"
      },
      "execution_count": null,
      "outputs": [
        {
          "output_type": "stream",
          "name": "stdout",
          "text": [
            "-2.0\n"
          ]
        }
      ]
    },
    {
      "cell_type": "code",
      "source": [
        "# valores_propios con numpy\n",
        "A = np.array([[3, 2],\n",
        "              [7, -2]])\n",
        "\n",
        "x, v = np.linalg.eig(A)"
      ],
      "metadata": {
        "id": "3rugwDQPkavx"
      },
      "execution_count": null,
      "outputs": []
    },
    {
      "cell_type": "code",
      "source": [
        "# x valor_propio, v vector_propio\n",
        "print (\"valor propio y vector propio de A\")\n",
        "print (x, v)"
      ],
      "metadata": {
        "id": "99HOLrX1kdSM",
        "colab": {
          "base_uri": "https://localhost:8080/"
        },
        "outputId": "52ed9591-f89f-4b71-9e0a-693fa6e55eaf"
      },
      "execution_count": null,
      "outputs": [
        {
          "output_type": "stream",
          "name": "stdout",
          "text": [
            "valor propio y vector propio de A\n",
            "[ 5. -4.] [[ 0.70710678 -0.27472113]\n",
            " [ 0.70710678  0.96152395]]\n"
          ]
        }
      ]
    },
    {
      "cell_type": "code",
      "source": [
        "# valores_propios con SymPy\n",
        "A = sympy.Matrix([[3, 2],\n",
        "                  [7, -2]])"
      ],
      "metadata": {
        "id": "MpfYBbpXkfyC"
      },
      "execution_count": null,
      "outputs": []
    },
    {
      "cell_type": "code",
      "source": [
        "# Valores_propios\n",
        "print (A)\n",
        "print (\"valores propios\")\n",
        "print (A.eigenvals())\n",
        "print (\"vectores propios\")\n",
        "# vector_propio\n",
        "print (A.eigenvects())"
      ],
      "metadata": {
        "id": "oKzszHhkkiX2",
        "colab": {
          "base_uri": "https://localhost:8080/"
        },
        "outputId": "3ec49768-90b0-41a7-ce0a-c19bf8a51734"
      },
      "execution_count": null,
      "outputs": [
        {
          "output_type": "stream",
          "name": "stdout",
          "text": [
            "Matrix([[3, 2], [7, -2]])\n",
            "valores propios\n",
            "{5: 1, -4: 1}\n",
            "vectores propios\n",
            "[(-4, 1, [Matrix([\n",
            "[-2/7],\n",
            "[   1]])]), (5, 1, [Matrix([\n",
            "[1],\n",
            "[1]])])]\n"
          ]
        }
      ]
    }
  ]
}