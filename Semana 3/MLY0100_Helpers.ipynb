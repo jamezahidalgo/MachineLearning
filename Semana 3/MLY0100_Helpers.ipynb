{
  "nbformat": 4,
  "nbformat_minor": 0,
  "metadata": {
    "colab": {
      "provenance": []
    },
    "kernelspec": {
      "name": "python3",
      "display_name": "Python 3"
    },
    "language_info": {
      "name": "python"
    }
  },
  "cells": [
    {
      "cell_type": "markdown",
      "source": [
        "# Análisis exploratorio"
      ],
      "metadata": {
        "id": "HgUhHV4VUotV"
      }
    },
    {
      "cell_type": "code",
      "execution_count": null,
      "metadata": {
        "id": "CCjeCQulUkWw"
      },
      "outputs": [],
      "source": [
        "import pandas as pd\n",
        "import numpy as np\n",
        "import matplotlib.pyplot as plt\n",
        "import seaborn as sns"
      ]
    },
    {
      "cell_type": "markdown",
      "source": [
        "## Medidas de tendencia central"
      ],
      "metadata": {
        "id": "1r5dP9M0fEhJ"
      }
    },
    {
      "cell_type": "code",
      "source": [
        "# Generar datos de ejemplo\n",
        "np.random.seed(0)\n",
        "data = np.random.normal(loc=0, scale=1, size=100)\n",
        "data"
      ],
      "metadata": {
        "colab": {
          "base_uri": "https://localhost:8080/"
        },
        "id": "QfFtoT_zU06-",
        "outputId": "732be4a0-cf0a-41a2-82bb-9b689a396053"
      },
      "execution_count": null,
      "outputs": [
        {
          "output_type": "execute_result",
          "data": {
            "text/plain": [
              "array([ 1.76405235,  0.40015721,  0.97873798,  2.2408932 ,  1.86755799,\n",
              "       -0.97727788,  0.95008842, -0.15135721, -0.10321885,  0.4105985 ,\n",
              "        0.14404357,  1.45427351,  0.76103773,  0.12167502,  0.44386323,\n",
              "        0.33367433,  1.49407907, -0.20515826,  0.3130677 , -0.85409574,\n",
              "       -2.55298982,  0.6536186 ,  0.8644362 , -0.74216502,  2.26975462,\n",
              "       -1.45436567,  0.04575852, -0.18718385,  1.53277921,  1.46935877,\n",
              "        0.15494743,  0.37816252, -0.88778575, -1.98079647, -0.34791215,\n",
              "        0.15634897,  1.23029068,  1.20237985, -0.38732682, -0.30230275,\n",
              "       -1.04855297, -1.42001794, -1.70627019,  1.9507754 , -0.50965218,\n",
              "       -0.4380743 , -1.25279536,  0.77749036, -1.61389785, -0.21274028,\n",
              "       -0.89546656,  0.3869025 , -0.51080514, -1.18063218, -0.02818223,\n",
              "        0.42833187,  0.06651722,  0.3024719 , -0.63432209, -0.36274117,\n",
              "       -0.67246045, -0.35955316, -0.81314628, -1.7262826 ,  0.17742614,\n",
              "       -0.40178094, -1.63019835,  0.46278226, -0.90729836,  0.0519454 ,\n",
              "        0.72909056,  0.12898291,  1.13940068, -1.23482582,  0.40234164,\n",
              "       -0.68481009, -0.87079715, -0.57884966, -0.31155253,  0.05616534,\n",
              "       -1.16514984,  0.90082649,  0.46566244, -1.53624369,  1.48825219,\n",
              "        1.89588918,  1.17877957, -0.17992484, -1.07075262,  1.05445173,\n",
              "       -0.40317695,  1.22244507,  0.20827498,  0.97663904,  0.3563664 ,\n",
              "        0.70657317,  0.01050002,  1.78587049,  0.12691209,  0.40198936])"
            ]
          },
          "metadata": {},
          "execution_count": 3
        }
      ]
    },
    {
      "cell_type": "code",
      "source": [
        "print(\"Desviación estándar : {:.4f}\".format(data.std()))\n",
        "print(\"Mediana : {:.4f}\".format(np.median(data)))\n",
        "print(\"Media : {:.4f}\".format(data.mean()))"
      ],
      "metadata": {
        "colab": {
          "base_uri": "https://localhost:8080/"
        },
        "id": "r52BWSQGVV9e",
        "outputId": "46558df9-de00-4d2f-f223-a28d56c6f2b8"
      },
      "execution_count": null,
      "outputs": [
        {
          "output_type": "stream",
          "name": "stdout",
          "text": [
            "Desviación estándar : 1.0079\n",
            "Mediana : 0.0941\n",
            "Media : 0.0598\n"
          ]
        }
      ]
    },
    {
      "cell_type": "markdown",
      "source": [
        "***Intrepretación de desviación estándar***\n",
        "\n",
        "La ***desviación estándar*** es una medida de dispersión que indica cuánto varían los valores de un conjunto de datos con respecto a la media.\n",
        "\n",
        "***Interpretar la desviación estándar implica entender qué tan dispersos están los datos en relación con la media***. Una desviación estándar grande indica que los datos están muy dispersos alrededor de la media, mientras que una desviación estándar pequeña indica que los datos están más cerca de la media.\n",
        "\n",
        "Por ejemplo, si estamos analizando las alturas de un grupo de personas y encontramos que la desviación estándar es pequeña, se puede interpretar esto como que la mayoría de las personas tienen alturas cercanas a la media, lo que sugiere una distribución más homogénea de las alturas en el grupo. Por otro lado, si la desviación estándar es grande, esto podría indicar que las alturas de las personas varían considerablemente alrededor de la media, lo que sugiere una distribución más dispersa de las alturas en el grupo."
      ],
      "metadata": {
        "id": "hOhMrMTpeW9L"
      }
    },
    {
      "cell_type": "code",
      "source": [
        "media, std = data.mean(), data.std()\n",
        "print(\"[{0:.2f}, {0:.2f}]\".format(media - std, media + std))"
      ],
      "metadata": {
        "colab": {
          "base_uri": "https://localhost:8080/"
        },
        "id": "Mhtf2npPhV6z",
        "outputId": "34cfbc65-660a-44ae-f79a-5f5e4b9f67eb"
      },
      "execution_count": null,
      "outputs": [
        {
          "output_type": "stream",
          "name": "stdout",
          "text": [
            "[-0.95, -0.95]\n"
          ]
        }
      ]
    },
    {
      "cell_type": "code",
      "source": [
        "print(np.sum((data > (media - std)) & (data < (media + std)))/len(data))"
      ],
      "metadata": {
        "colab": {
          "base_uri": "https://localhost:8080/"
        },
        "id": "M_uY5cqhh3AV",
        "outputId": "833e3a3d-50a1-48f3-e7c2-ec1a92164b34"
      },
      "execution_count": null,
      "outputs": [
        {
          "output_type": "stream",
          "name": "stdout",
          "text": [
            "0.67\n"
          ]
        }
      ]
    },
    {
      "cell_type": "code",
      "source": [
        "print(\"[{0:.2f}, {0:.2f}]\".format(media - 2*std, media + 2*std))\n",
        "print(np.sum((data > (media - 2*std)) & (data < (media + 2*std)))/len(data))"
      ],
      "metadata": {
        "colab": {
          "base_uri": "https://localhost:8080/"
        },
        "id": "6-xIzY_Zign_",
        "outputId": "4b06cacc-d890-4547-89f8-e325b0ca97c1"
      },
      "execution_count": null,
      "outputs": [
        {
          "output_type": "stream",
          "name": "stdout",
          "text": [
            "[-1.96, -1.96]\n",
            "0.96\n"
          ]
        }
      ]
    },
    {
      "cell_type": "markdown",
      "source": [
        "## Medidas de posición"
      ],
      "metadata": {
        "id": "JVz4GwFpe_NG"
      }
    },
    {
      "cell_type": "code",
      "source": [
        "print(\"{0:<15}: {1:.4f}\".format(\"Primer cuartil\",np.quantile(data, 0.25)))\n",
        "print(\"{0:<15}: {1:.4f}\".format(\"Segundo cuartil\",np.quantile(data, 0.5)))\n",
        "print(\"{0:<15}: {1:.4f}\".format(\"Tercer cuartil\",np.quantile(data, 0.75)))\n"
      ],
      "metadata": {
        "colab": {
          "base_uri": "https://localhost:8080/"
        },
        "id": "qI3sBgwpW_YR",
        "outputId": "66c18cc5-7f8c-4d72-8c52-0827baee8385"
      },
      "execution_count": null,
      "outputs": [
        {
          "output_type": "stream",
          "name": "stdout",
          "text": [
            "Primer cuartil : -0.6439\n",
            "Segundo cuartil: 0.0941\n",
            "Tercer cuartil : 0.7371\n"
          ]
        }
      ]
    },
    {
      "cell_type": "markdown",
      "source": [
        "***Interpretaciones***\n",
        "\n",
        "+ Aproximadamente el 75% de los datos es menor a 0.7371; por ende, el 25% de los datos es superior a ese valor.\n",
        "+ Aproximadamente el 50% de los datos es menor a 0.0941; por ende, el 50% de los datos es superior a ese valor.\n",
        "+ Aproximadamente el 25% de los datos es menor a -0.6439; por ende, el 75% de los datos es superior a ese valor.\n",
        "\n",
        "\n",
        "---\n",
        "\n",
        "\n",
        "\n",
        "***Utilidad de los cuartiles***\n",
        "\n",
        "Por ejemplo, si estamos analizando los salarios de los empleados en una empresa, el tercer cuartil nos indicará el salario por debajo del cual se encuentran el 75% de los empleados, lo que podría ser útil para comprender la estructura salarial de la organización"
      ],
      "metadata": {
        "id": "J7FkerJwcuAT"
      }
    },
    {
      "cell_type": "code",
      "source": [
        "# Para comprobar :-)\n",
        "print(np.sum(data > np.quantile(data, 0.75)))\n",
        "print(np.sum(data < np.quantile(data, 0.25)))"
      ],
      "metadata": {
        "colab": {
          "base_uri": "https://localhost:8080/"
        },
        "id": "ObxMPA_zdb2I",
        "outputId": "b3a7f712-b770-4b19-ca60-0b7a4bb720bf"
      },
      "execution_count": null,
      "outputs": [
        {
          "output_type": "stream",
          "name": "stdout",
          "text": [
            "25\n",
            "25\n"
          ]
        }
      ]
    },
    {
      "cell_type": "code",
      "source": [
        "# Revisa la existencia de valores atípicos\n",
        "# Calcular cuartiles\n",
        "Q1 = np.quantile(data, 0.25)\n",
        "Q3 = np.quantile(data, 0.75)\n",
        "\n",
        "# Calcular el rango intercuartílico (IQR)\n",
        "IQR = Q3 - Q1\n",
        "\n",
        "# Identificar valores atípicos\n",
        "outliers = (data < (Q1 - 1.5 * IQR)) | (data > (Q3 + 1.5 * IQR))\n",
        "total_atipicos, porcentaje = len(data[outliers].tolist()), 100*len(data[outliers].tolist())/data.shape[0]\n",
        "print(\"Existen {0} valores atípicos que representa un {1:.2f}% de los valores de la columna\".format(total_atipicos, porcentaje))"
      ],
      "metadata": {
        "colab": {
          "base_uri": "https://localhost:8080/"
        },
        "id": "fYPm30tif4wT",
        "outputId": "d25b578b-52e1-48a3-c546-4bbde1c8d3d8"
      },
      "execution_count": null,
      "outputs": [
        {
          "output_type": "stream",
          "name": "stdout",
          "text": [
            "Existen 0 valores atípicos que representa un 0.00% de los valores de la columna\n"
          ]
        }
      ]
    },
    {
      "cell_type": "markdown",
      "source": [
        "## Gráficos para ayudar las interpretaciones"
      ],
      "metadata": {
        "id": "lBDb3yc1hPhB"
      }
    },
    {
      "cell_type": "code",
      "source": [
        "# Crear una figura y subplots\n",
        "fig, axs = plt.subplots(1, 3, figsize=(15, 5))\n",
        "\n",
        "# Trazar el primer gráfico (violin plot) en el primer subplot\n",
        "sns.violinplot(data=data, ax=axs[0])\n",
        "axs[0].set_title('Violin Plot')\n",
        "\n",
        "# Trazar el segundo gráfico (box plot) en el segundo subplot\n",
        "axs[1].boxplot(data)\n",
        "axs[1].set_title('Box Plot')\n",
        "\n",
        "# Trazar el tercer gráfico (histograma) en el tercer subplot\n",
        "axs[2].hist(data, bins=10, color='blue', edgecolor='black')\n",
        "axs[2].set_title('Histograma')\n",
        "\n",
        "# Tìtulo del gráfico\n",
        "plt.suptitle(r\"Gráficos de una distribución normal con $\\sigma$=1 y $\\mu$=0\", fontsize=15, fontweight=\"bold\")\n",
        "# Ajustar automáticamente los espaciados para que los subplots no se superpongan\n",
        "plt.tight_layout()\n",
        "# Mostrar la figura\n",
        "plt.show()\n",
        "\n"
      ],
      "metadata": {
        "colab": {
          "base_uri": "https://localhost:8080/",
          "height": 404
        },
        "id": "l6xJomOTXpHg",
        "outputId": "4c770401-2ac6-4801-9525-e826d90a9ffe"
      },
      "execution_count": null,
      "outputs": [
        {
          "output_type": "display_data",
          "data": {
            "text/plain": [
              "<Figure size 1500x500 with 3 Axes>"
            ],
            "image/png": "[encoded data removed]"
          },
          "metadata": {}
        }
      ]
    }
  ]
}